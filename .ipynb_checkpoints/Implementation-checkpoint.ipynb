{
 "cells": [
  {
   "cell_type": "markdown",
   "metadata": {},
   "source": [
    "# Artificial Neural Networks, another atempt\n",
    "\n",
    "Here I will try to make a neural network using numpy, that is capable of achieving a satisfying accuracy on the mnist dataset of handwritten digits. The model will be supervised and later I will give a potential unsupervised model for solving the same task which (hopefully) yields results similar to the supervised model\n"
   ]
  },
  {
   "cell_type": "markdown",
   "metadata": {},
   "source": [
    "## Import necessary utility libraries\n"
   ]
  },
  {
   "cell_type": "code",
   "execution_count": 2,
   "metadata": {},
   "outputs": [],
   "source": [
    "import pandas as pd\n",
    "import numpy as np\n",
    "import os\n",
    "import gzip\n",
    "import matplotlib.pyplot as plt\n",
    "import math\n",
    "%matplotlib inline\n",
    "\n",
    "from matplotlib.pyplot import figure"
   ]
  },
  {
   "cell_type": "markdown",
   "metadata": {},
   "source": [
    "## Define utility functions"
   ]
  },
  {
   "cell_type": "code",
   "execution_count": 3,
   "metadata": {},
   "outputs": [],
   "source": [
    "def normalize(x):\n",
    "    return (x - np.min(x)) / (np.max(x) - np.min(x))\n",
    "\n",
    "# TODO: test and fix this method\n",
    "def one_hot_encode(x, size):\n",
    "    arr = np.zeros((size,1))\n",
    "    arr[x] = 1\n",
    "    return arr\n",
    "\n",
    "# Activation functions\n",
    "\n",
    "# returns the input\n",
    "def identity(x, d = False):\n",
    "    if d == False:\n",
    "        return x\n",
    "    else:\n",
    "        ones = np.ones(x.shape)\n",
    "        return np.fill(ones)\n",
    "    \n",
    "def sgn(x, d = False):\n",
    "    if d == False:\n",
    "        return np.where(x < 0, -1, 1)\n",
    "    else:\n",
    "        return np.where(x != 0, 0, 0)\n",
    "    \n",
    "def l_relu(x, d = False):\n",
    "    if not d:\n",
    "        return np.where(x > 0, x, x/20)\n",
    "    else:\n",
    "        return np.where(x > 0, 1, -1.0/20)\n",
    "\n",
    "def relu(x, d = False):\n",
    "    if not d:\n",
    "        return np.where(x > 0, x, x/20)\n",
    "    else:\n",
    "        return np.where(x > 0, 1, 0)\n",
    "    \n",
    "def sigmoid(x, d = False):\n",
    "    s = 1. / (1. + np.exp(-x))\n",
    "    if not d:\n",
    "        return s\n",
    "    else:\n",
    "        return np.multiply(s, (1 - s))\n",
    "    "
   ]
  },
  {
   "cell_type": "markdown",
   "metadata": {},
   "source": [
    "## Import the MNIST dataset (handwritten digits)"
   ]
  },
  {
   "cell_type": "code",
   "execution_count": 4,
   "metadata": {},
   "outputs": [
    {
     "name": "stderr",
     "output_type": "stream",
     "text": [
      "c:\\users\\joels\\appdata\\local\\programs\\python\\python36\\lib\\site-packages\\h5py\\__init__.py:36: FutureWarning: Conversion of the second argument of issubdtype from `float` to `np.floating` is deprecated. In future, it will be treated as `np.float64 == np.dtype(float).type`.\n",
      "  from ._conv import register_converters as _register_converters\n"
     ]
    }
   ],
   "source": [
    "\n",
    "import tensorflow as tf\n",
    "mnist = tf.keras.datasets.mnist\n",
    "(training_examples, training_labels),(test_examples, test_labels) = mnist.load_data()\n",
    "\n",
    "lab_examples = training_examples\n",
    "\n",
    "training_examples = normalize(training_examples)\n",
    "test_examples = normalize(test_examples)\n"
   ]
  },
  {
   "cell_type": "code",
   "execution_count": 5,
   "metadata": {
    "scrolled": false
   },
   "outputs": [
    {
     "name": "stdout",
     "output_type": "stream",
     "text": [
      "(60000, 784, 1)\n",
      "Number of training examples and test examples:  60000 ,  10000\n",
      "data dimensions:  (28, 28)\n",
      "example dimension:  (784, 1)\n",
      "Display some training examples:\n"
     ]
    },
    {
     "data": {
      "image/png": "[encoded data removed]",
      "text/plain": [
       "<matplotlib.figure.Figure at 0x1d59b668b70>"
      ]
     },
     "metadata": {},
     "output_type": "display_data"
    },
    {
     "data": {
      "image/png": "[encoded data removed]",
      "text/plain": [
       "<matplotlib.figure.Figure at 0x1d5a136ecf8>"
      ]
     },
     "metadata": {},
     "output_type": "display_data"
    },
    {
     "data": {
      "image/png": "[encoded data removed]",
      "text/plain": [
       "<matplotlib.figure.Figure at 0x1d5a1408828>"
      ]
     },
     "metadata": {},
     "output_type": "display_data"
    },
    {
     "data": {
      "image/png": "[encoded data removed]",
      "text/plain": [
       "<matplotlib.figure.Figure at 0x1d5a1495f98>"
      ]
     },
     "metadata": {},
     "output_type": "display_data"
    },
    {
     "data": {
      "image/png": "[encoded data removed]",
      "text/plain": [
       "<matplotlib.figure.Figure at 0x1d5a14e7e10>"
      ]
     },
     "metadata": {},
     "output_type": "display_data"
    },
    {
     "data": {
      "image/png": "[encoded data removed]",
      "text/plain": [
       "<matplotlib.figure.Figure at 0x1d59b668be0>"
      ]
     },
     "metadata": {},
     "output_type": "display_data"
    }
   ],
   "source": [
    "\"\"\"\n",
    "###\n",
    "Split data into train and test sets\n",
    "###\n",
    "\"\"\"\n",
    "\n",
    "#training_examples, training_labels = ([], [])\n",
    "#test_examples, test_labels = ([], [])\n",
    "\n",
    "num_train = len(training_examples)  # amount of training examples/labels\n",
    "\n",
    "num_test = len(test_examples)   # amount of test examples/labels\n",
    "\n",
    "img_len = np.prod((training_examples[0].shape))      # Number of pixels in image\n",
    "\n",
    "img_dim = (int(math.sqrt(img_len)), int(math.sqrt(img_len))) # Image dimension\n",
    "\n",
    "\n",
    "\n",
    "training_examples = np.reshape(training_examples, (num_train, img_len, 1))\n",
    "lab_examples = np.reshape(lab_examples, (num_train, img_len, 1))\n",
    "test_examples = np.reshape(test_examples, (num_test, img_len, 1))\n",
    "print(training_examples.shape)\n",
    "\n",
    "\n",
    "print(\"Number of training examples and test examples: \", num_train, \", \", num_test)\n",
    "print(\"data dimensions: \", img_dim)\n",
    "print(\"example dimension: \", training_examples[0].shape)\n",
    "print(\"Display some training examples:\")\n",
    "\n",
    "\n",
    "for i in range(0, 5):\n",
    "    \n",
    "    plt.title(training_labels[i])\n",
    "    plt.imshow(training_examples[i].reshape(img_dim))\n",
    "    plt.show()\n",
    "    \n",
    "plt.hist(test_labels)\n",
    "plt.show()"
   ]
  },
  {
   "cell_type": "markdown",
   "metadata": {},
   "source": [
    "\n",
    "\n",
    "\n",
    "# The neural network class\n",
    "\n",
    "The network takes as input a list of sizes that determines the size of each layer(respective to each int) and a list of functions that work as activation functions for each layer relative to their order.\n",
    "\n"
   ]
  },
  {
   "cell_type": "code",
   "execution_count": 17,
   "metadata": {
    "scrolled": false
   },
   "outputs": [],
   "source": [
    "def error_function(output, expected, d = False, d_out = None):\n",
    "    if not d:\n",
    "        error = np.sum(np.matrix( (1/2) * np.sum(np.power(expected - output, 2))))\n",
    "        #print(\"Error : \",error.shape)\n",
    "        return np.nan_to_num(error)\n",
    "    else:\n",
    "        error = np.multiply(np.subtract(output, expected), (np.matrix(d_out)))\n",
    "        #print(\"Error d: \",error.shape)\n",
    "        return np.nan_to_num(error)\n",
    "            \n",
    "class neural_net:\n",
    "    def __init__(self, sizes, activation_functions, lamb):\n",
    "        if len(sizes) < 2:\n",
    "            print(\"Invalid size parameters, requires 2(input and output) or more integers(input, hidden and output)\")\n",
    "            return 0\n",
    "        \n",
    "        if len(activation_functions) != len(sizes) - 1:\n",
    "            print(\"The number of activation functions defined for each layer must be equal to the number of layers(excluding the input layer)!\")\n",
    "            return 0\n",
    "        \n",
    "        self.weights = []\n",
    "        self.activation_functions = activation_functions\n",
    "        self.sizes = sizes\n",
    "        self.lamb = lamb\n",
    "        \n",
    "        \n",
    "        for i, j in zip(self.sizes[:-1], self.sizes[1:]):\n",
    "            self.weights.append(np.random.random_sample((j, i)) * math.sqrt(2/ (j*i)))\n",
    "\n",
    "        # variables for batch learning\n",
    "        self.curr_batch = 0\n",
    "        self.mean_error = []\n",
    "        for i, j in zip(self.sizes[:-1], self.sizes[1:]):\n",
    "            self.mean_error.append(np.zeros((j, i)))\n",
    "\n",
    "        \n",
    "    def train_feed_forward(self, input_vector, label):\n",
    "        signals = []\n",
    "        derived_signals = []\n",
    "        signals.append(input_vector)\n",
    "        derived_signals.append(input_vector)\n",
    "        for w, f in zip(self.weights, self.activation_functions):\n",
    "            \n",
    "            derived_signals.append(f(np.dot(w, signals[-1]), d = True)) # Save derivative of signal\n",
    "            signals.append(f(np.dot(w, signals[-1]), d = False)) # Save the signal itself\n",
    "            \n",
    "        \n",
    "        return signals, derived_signals, error_function(signals[-1], label, d = True, d_out = derived_signals[-1])\n",
    "    \n",
    "    \n",
    "    def backpropagate(self, signals, d_signals, out_error):\n",
    "\n",
    "        error_vectors = list() # Error in each layer\n",
    "        error_vectors.append(np.multiply(out_error, d_signals[-1])) # error in output layer\n",
    "\n",
    "        for w in reversed(range(len(self.weights))):\n",
    "\n",
    "            \n",
    "            error = np.sum(np.multiply(self.weights[w], error_vectors[-1])) * (np.matrix(d_signals[w]))\n",
    "            #error = np.multiply(np.sum(np.multiply(net.weights[w].T, error_vectors[-1]), axis = 1), np.matrix(d_signals[w]).T).T\n",
    "            \n",
    "            #first_step = self.weights[w] *  error_vectors[-1]\n",
    "            #second_step = np.multiply(first_step * d_signals[w])\n",
    "            error_vectors.append(error)\n",
    "            \n",
    "            # Deltas for updating weights\n",
    "        deltas = list()\n",
    "        for error, layer in zip(error_vectors, reversed(d_signals)):\n",
    "            deltas.append(np.multiply(error, layer))\n",
    "            \n",
    "        return error_vectors, deltas\n",
    "    \n",
    "    def calc_mean_error(self, errors, deltas, signals, alpha, batch_size = 1):\n",
    "        for w in range(len(self.weights)):\n",
    "            alp = alpha * errors[-(w + 2)].dot(signals[w].T)\n",
    "            self.mean_error[w] = self.mean_error[w] + (alp / batch_size)\n",
    "            \n",
    "    def quick_update_weights(self, batch_size):\n",
    "        for w in range(len(self.weights)):\n",
    "            self.weights[w] = (self.weights[w] - self.mean_error[w]) #- (alpha * (self.lamb/2*batch_size) * self.weights[w])\n",
    "            \n",
    "        self.curr_batch = 0\n",
    "        self.mean_error = []\n",
    "        for i, j in zip(self.sizes[:-1], self.sizes[1:]):\n",
    "            self.mean_error.append(np.zeros((j, i)))\n",
    "    \n",
    "    def update_weights(self, errors, deltas, signals, alpha):\n",
    "        \n",
    "            #weight = weight + learning_rate * error * input\n",
    "        for w in range(len(self.weights)):\n",
    "            alp = alpha * errors[-(w + 2)].dot(signals[w].T)\n",
    "            self.weights[w] = self.weights[w] - alp\n",
    "            \n",
    "            #print(np.max(alpha * errors[-(w + 1)].T * signals[w + 1]), np.min(alpha * errors[-(w + 1)].T * signals[w + 1]))\n",
    "    \n",
    "    def train(self, input_vector, label, alpha, batch_size = 1):\n",
    "        \n",
    "        \n",
    "            # Error in output layer, use train method to get error as well\n",
    "        signals, d_signals, output_error = self.train_feed_forward(input_vector, label)\n",
    "        \n",
    "            # Perform backpropagation\n",
    "        errors, deltas = self.backpropagate(signals, d_signals, output_error)\n",
    "        \n",
    "        self.curr_batch += 1\n",
    "        \n",
    "        self.calc_mean_error(errors, deltas, signals, alpha, batch_size)\n",
    "        \n",
    "        \n",
    "        if self.curr_batch == batch_size:\n",
    "                # Update weights with backpropagated data\n",
    "            #self.update_weights(errors, deltas, signals, alpha)\n",
    "            self.quick_update_weights(batch_size)\n",
    "\n",
    "        return error_function(signals[-1], label)\n",
    "    \n",
    "    \n",
    "    def batch_training(self, input_vectors, labels, alpha, epochs, batch):\n",
    "        for e in range(epochs):\n",
    "            for v, l in zip(input_vectors, labels):\n",
    "                self.train(v, l, alpha, batch_size = batch)\n",
    "            \n",
    "    "
   ]
  },
  {
   "cell_type": "markdown",
   "metadata": {},
   "source": [
    "# Method for learning process\n",
    "\n",
    "display signals will show an image of the activations to display the networks accuracy. Does not work if the number of neurons in a givn layer is not a perfect square"
   ]
  },
  {
   "cell_type": "code",
   "execution_count": 7,
   "metadata": {},
   "outputs": [],
   "source": [
    "\n",
    "def display_signals(signals, title, sizes):\n",
    "    figure(num=None, figsize=(15, 15), dpi=120, facecolor='w', edgecolor='k')\n",
    "    f, axis_y = plt.subplots(1, len(signals), sharey= True)\n",
    "        \n",
    "    for s in range(len(signals)):\n",
    "        if sizes[s] != 10:\n",
    "            dim_int = int(math.sqrt(sizes[s]))\n",
    "            dim = (dim_int, dim_int)\n",
    "            axis_y[s].imshow(signals[s].reshape(dim))\n",
    "        else:\n",
    "            print(signals[s])\n",
    "    plt.title(\"error: \" + str(title))\n",
    "    plt.show()"
   ]
  },
  {
   "cell_type": "markdown",
   "metadata": {},
   "source": [
    "# Using the model "
   ]
  },
  {
   "cell_type": "code",
   "execution_count": null,
   "metadata": {
    "scrolled": true
   },
   "outputs": [],
   "source": [
    "\n",
    "sizes = [784, 100, 784]\n",
    "input_shape = (sizes[0], 1)\n",
    "a_functions = []\n",
    "[a_functions.append(sigmoid) for i in range(len(sizes) - 1)]\n",
    "\n",
    "\n",
    "alpha = 0.0005\n",
    "epochs = 10\n",
    "mini_batch_size = 16\n",
    "lamb = 1\n",
    "\n",
    "\n",
    "net = neural_net(sizes, a_functions, lamb)\n",
    "\n",
    "#errors = train_network(net, training_examples, lab, epochs = epochs, alpha = alpha, batch_size=mini_batch_size, force_overfit = False)\n",
    "errors = list()\n",
    "counter = 0\n",
    "for i in range(epochs):\n",
    "    for e in range(len(training_examples)):\n",
    "        net.train(training_examples[e], lab_examples[e], alpha, batch_size= mini_batch_size)\n",
    "        counter +=1\n",
    "        if counter == mini_batch_size:\n",
    "                signals = net.train_feed_forward(training_examples[e], lab_examples[e])[0]\n",
    "                print(np.max(signals[-1]), np.min(signals[-1]))\n",
    "                title = str(error_function(signals[-1], lab_examples[e], d= False))\n",
    "                display_signals(signals, title, net.sizes)\n",
    "                counter = 0\n",
    "\"\"\"\n",
    "for e in range(50000):\n",
    "    net.train(training_examples[0], lab_examples[0], alpha, batch_size= mini_batch_size)\n",
    "    counter +=1\n",
    "    if counter == mini_batch_size:\n",
    "            signals = net.train_feed_forward(training_examples[0], lab_examples[0])[0]\n",
    "            print(np.max(signals[-1]), np.min(signals[-1]))\n",
    "            title = str(error_function(signals[-1], lab_examples[0], d= False))\n",
    "            display_signals(signals, title, net.sizes)\n",
    "            counter = 0\n",
    "\"\"\"            \n",
    "figure(num=None, figsize=(15, 12), dpi=80, facecolor='w', edgecolor='k')\n",
    "# Becomes hard to read if first error is considerably larger than 0 (e.g. 2 000 000)\n",
    "#plt.ylim((0, np.max(errors)))\n",
    "\n",
    "plt.plot(errors)\n",
    "plt.show()\n",
    "\n",
    "#net.batch_training(training_examples, training_labels, alpha, epochs, mini_batch_size)\n",
    "\n",
    "\n"
   ]
  },
  {
   "cell_type": "markdown",
   "metadata": {},
   "source": [
    "# Test if the network can learn basic operations like addition\n",
    "For these examples, if the weights become optimal by assuming certain values.\n",
    "For example: Adding the two numbers means that the weight simply must assume the value 1,\n",
    "if the backprpagation algorithm is implemented correctly, then the weights should converge to 1\n",
    "quickly (relative to the learning rate of course)\n"
   ]
  },
  {
   "cell_type": "code",
   "execution_count": 23,
   "metadata": {},
   "outputs": [
    {
     "name": "stdout",
     "output_type": "stream",
     "text": [
      "The sum of:\n",
      "[[-1168.8161782 ]\n",
      " [ 4365.48324863]]\n",
      "is: \n",
      "3196.6670704294756\n"
     ]
    }
   ],
   "source": [
    "# Generate dummy data\n",
    "t_e = [ -10000 * np.random.random_sample((2, 1)) + 5000 for i in range(10000)]\n",
    "l_e = [np.sum(e) for e in t_e]\n",
    "print(\"The sum of:\")\n",
    "print(t_e[0])\n",
    "print(\"is: \")\n",
    "print(l_e[0])"
   ]
  },
  {
   "cell_type": "code",
   "execution_count": null,
   "metadata": {
    "scrolled": true
   },
   "outputs": [],
   "source": [
    "s = [2, 1]\n",
    "a_f = [l_relu]\n",
    "\n",
    "alpha = 0.0001\n",
    "epochs = 2\n",
    "mini_batch_size = 1\n",
    "\n",
    "n = neural_net(s, a_f, lamb = 1)\n",
    "for e in range(epochs):\n",
    "    for t, l in zip(t_e, l_e):\n",
    "        \n",
    "        print(\"try to predict: \")\n",
    "        print(\"    \", t_e[0][0], \" + \", t_e[0][1], \" = \", l_e[0])\n",
    "        sig, d_dig, err = n.train_feed_forward(t_e[0], l_e[0])\n",
    "        \n",
    "        print(\"got: \")\n",
    "        print(\"    \", sig[0][0], \" + \", sig[0][1], \" = \", sig[1][0])\n",
    "        \n",
    "        print(\"Weights\")\n",
    "        print(n.weights)\n",
    "        \n",
    "        print()\n",
    "        n.train(t_e[0], l_e[0], alpha, mini_batch_size)"
   ]
  },
  {
   "cell_type": "code",
   "execution_count": null,
   "metadata": {},
   "outputs": [],
   "source": []
  }
 ],
 "metadata": {
  "kernelspec": {
   "display_name": "Python 3",
   "language": "python",
   "name": "python3"
  },
  "language_info": {
   "codemirror_mode": {
    "name": "ipython",
    "version": 3
   },
   "file_extension": ".py",
   "mimetype": "text/x-python",
   "name": "python",
   "nbconvert_exporter": "python",
   "pygments_lexer": "ipython3",
   "version": "3.6.2"
  }
 },
 "nbformat": 4,
 "nbformat_minor": 2
}
