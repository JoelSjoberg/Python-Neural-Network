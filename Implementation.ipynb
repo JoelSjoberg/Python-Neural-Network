{
 "cells": [
  {
   "cell_type": "markdown",
   "metadata": {},
   "source": [
    "# Artificial Neural Networks, another atempt\n",
    "\n",
    "Here I will try to make a neural network using numpy, that is capable of achieving a satisfying accuracy on the mnist dataset of handwritten digits. The model will be supervised and later I will give a potential unsupervised model for solving the same task which (hopefully) yields results similar to the supervised model\n"
   ]
  },
  {
   "cell_type": "markdown",
   "metadata": {},
   "source": [
    "## Import necessary utility libraries\n"
   ]
  },
  {
   "cell_type": "code",
   "execution_count": 318,
   "metadata": {},
   "outputs": [],
   "source": [
    "import numpy as np\n",
    "import matplotlib.pyplot as plt\n",
    "import math\n",
    "%matplotlib inline\n",
    "\n",
    "from matplotlib.pyplot import figure\n",
    "from progress.bar import Bar"
   ]
  },
  {
   "cell_type": "markdown",
   "metadata": {},
   "source": [
    "## Define utility functions"
   ]
  },
  {
   "cell_type": "code",
   "execution_count": 319,
   "metadata": {},
   "outputs": [],
   "source": [
    "# Clamp value of matrix between 0 and 1\n",
    "def normalize(x):\n",
    "    return (x - np.min(x)) / (np.max(x) - np.min(x))\n",
    "\n",
    "# Return an array with one at index of input integer\n",
    "def one_hot_encode(x, size = 10):\n",
    "    arr = np.zeros((size,1))\n",
    "    arr[x] = 1\n",
    "    return arr\n",
    "\n",
    "# Drop neurons from layer with p chance\n",
    "def layer_dropout(x, p = 0.3):\n",
    "    \n",
    "    if p == 0:\n",
    "        return x\n",
    "    \n",
    "    layer = np.ones_like(x)\n",
    "    drops = np.random.choice(\n",
    "    np.arange(layer.size),\n",
    "    replace = False,\n",
    "    size = int(layer.size * p))\n",
    "    \n",
    "    layer[drops] = 0\n",
    "    \n",
    "    return np.multiply(x, layer)\n",
    "\n",
    "\n",
    "# displayMe will show an image of the activations to display the networks accuracy.\n",
    "# Does not work if the number of neurons in a givn layer is not a perfect square\n",
    "def displayMe(signals, title, sizes):\n",
    "    \n",
    "    num = 191\n",
    "    plt.subplots(figsize=(30,3))\n",
    "    print()\n",
    "    for i in range(len(signals)):\n",
    "        if(sizes[i] == 10):\n",
    "                # Print max of signal in layer\n",
    "            print(\"signal in 10 neuron layer: \", np.argmax(signals[i]))\n",
    "            continue\n",
    "        plt.subplot(num)\n",
    "        num += 1\n",
    "        dim_int = int(math.sqrt(sizes[i]))\n",
    "        dim = (dim_int, dim_int)\n",
    "        plt.imshow(signals[i].reshape(dim))    \n",
    "\n",
    "    plt.suptitle(\"Summed error: \" + str(title))\n",
    "    plt.subplots_adjust(top=0.92, bottom=0.08, left=0.10, right=0.95, hspace=0.25,\n",
    "                    wspace=0.35)\n",
    "\n",
    "    plt.show()\n",
    "    \n",
    "    "
   ]
  },
  {
   "cell_type": "markdown",
   "metadata": {},
   "source": [
    "## Activation Functions"
   ]
  },
  {
   "cell_type": "code",
   "execution_count": 320,
   "metadata": {},
   "outputs": [],
   "source": [
    "def identity(x, d = False):\n",
    "    if d == False:\n",
    "        return x\n",
    "    else:\n",
    "        ones = np.ones(x.shape)\n",
    "        return ones\n",
    "    \n",
    "def sgn(x, d = False):\n",
    "    if d == False:\n",
    "        return np.where(x < 0, -1, 1)\n",
    "    else:\n",
    "        return np.where(x != 0, 0, 0)\n",
    "    \n",
    "def l_relu(x, d = False):\n",
    "    if not d:\n",
    "        return np.where(x > 0, x, x/10)\n",
    "    else:\n",
    "        return np.where(x > 0, 1, -1.0/10)\n",
    "\n",
    "def relu(x, d = False):\n",
    "    if not d:\n",
    "        return np.where(x > 0, x, 0)\n",
    "    else:\n",
    "        return np.where(x > 0, 1, 0)\n",
    "    \n",
    "def sigmoid(x, d = False):\n",
    "    s = 1. / (1. + np.exp(-x))\n",
    "    if not d:\n",
    "        return s\n",
    "    else:\n",
    "        return np.multiply(s, (1 - s))\n",
    "\n",
    "def tanh(x, d = False):\n",
    "    th = np.tanh(x)\n",
    "    if not d:\n",
    "        return th\n",
    "    else:\n",
    "        return  1 - np.power(th, 2)\n",
    "\n",
    "# Reverse relu\n",
    "def r_relu(x, d = False):\n",
    "    if not d:\n",
    "        return np.where(x < 0, x, 0)\n",
    "    else:\n",
    "        return np.where(x < 0, 1, 0)\n",
    "    \n",
    "def lr_relu(x, d = False):\n",
    "    if not d:\n",
    "        return np.where(x < 0, x, x/10)\n",
    "    else:\n",
    "        return np.where(x < 0, 1, 1.0/10)\n",
    "\n",
    "def softmax(x, d = False):\n",
    "    if not d:\n",
    "        e = np.exp(x - np.max(x))\n",
    "        return e / np.sum(e)\n",
    "    else:\n",
    "        return np.sum()\n",
    "    \n",
    "# This function should return the biggest element(s) in a one hot encoded vector\n",
    "def pivot_squeezer(x, d = False):\n",
    "    b = np.zeros_like(one_hot_encode(0, size = len(x)))\n",
    "    for i in np.argwhere(x == np.max(x)):\n",
    "        b = np.add(b, one_hot_encode(i[0], size=len(x)))\n",
    "    if not d:\n",
    "        return b\n",
    "    else:\n",
    "        return np.where(b < 1, -0.1, 1)"
   ]
  },
  {
   "cell_type": "code",
   "execution_count": null,
   "metadata": {},
   "outputs": [],
   "source": []
  },
  {
   "cell_type": "markdown",
   "metadata": {},
   "source": [
    "### Plots\n",
    "We can now plot the functions to see how they work"
   ]
  },
  {
   "cell_type": "code",
   "execution_count": 321,
   "metadata": {
    "scrolled": false
   },
   "outputs": [
    {
     "name": "stdout",
     "output_type": "stream",
     "text": [
      "[-5 -4 -3 -2 -1  0  1  2  3  4] \n",
      "\n",
      "   ReLu   \n",
      "[0 0 0 0 0 0 1 2 3 4]\n",
      "[0 0 0 0 0 0 1 1 1 1]\n"
     ]
    },
    {
     "data": {
      "image/png": "[encoded data removed]",
      "text/plain": [
       "<matplotlib.figure.Figure at 0x1758b76f390>"
      ]
     },
     "metadata": {},
     "output_type": "display_data"
    },
    {
     "name": "stdout",
     "output_type": "stream",
     "text": [
      "   identity   \n",
      "[-5 -4 -3 -2 -1  0  1  2  3  4]\n",
      "[1. 1. 1. 1. 1. 1. 1. 1. 1. 1.] \n",
      "\n"
     ]
    },
    {
     "data": {
      "image/png": "[encoded data removed]",
      "text/plain": [
       "<matplotlib.figure.Figure at 0x1758b758d30>"
      ]
     },
     "metadata": {},
     "output_type": "display_data"
    },
    {
     "name": "stdout",
     "output_type": "stream",
     "text": [
      "   l_ReLu   \n",
      "[-0.5 -0.4 -0.3 -0.2 -0.1  0.   1.   2.   3.   4. ]\n",
      "[-0.1 -0.1 -0.1 -0.1 -0.1 -0.1  1.   1.   1.   1. ] \n",
      "\n"
     ]
    },
    {
     "data": {
      "image/png": "[encoded data removed]",
      "text/plain": [
       "<matplotlib.figure.Figure at 0x1758b6cada0>"
      ]
     },
     "metadata": {},
     "output_type": "display_data"
    },
    {
     "name": "stdout",
     "output_type": "stream",
     "text": [
      "   Sigmoid   \n",
      "[0.00669285 0.01798621 0.04742587 0.11920292 0.26894142 0.5\n",
      " 0.73105858 0.88079708 0.95257413 0.98201379]\n",
      "[0.00664806 0.01766271 0.04517666 0.10499359 0.19661193 0.25\n",
      " 0.19661193 0.10499359 0.04517666 0.01766271] \n",
      "\n"
     ]
    },
    {
     "data": {
      "image/png": "[encoded data removed]",
      "text/plain": [
       "<matplotlib.figure.Figure at 0x1758d4692b0>"
      ]
     },
     "metadata": {},
     "output_type": "display_data"
    },
    {
     "name": "stdout",
     "output_type": "stream",
     "text": [
      "   sgn   \n",
      "[-1 -1 -1 -1 -1  1  1  1  1  1]\n",
      "[0 0 0 0 0 0 0 0 0 0] \n",
      "\n"
     ]
    },
    {
     "data": {
      "image/png": "[encoded data removed]",
      "text/plain": [
       "<matplotlib.figure.Figure at 0x1758b80bcf8>"
      ]
     },
     "metadata": {},
     "output_type": "display_data"
    },
    {
     "name": "stdout",
     "output_type": "stream",
     "text": [
      "   TanH   \n",
      "[-0.9999092  -0.9993293  -0.99505475 -0.96402758 -0.76159416  0.\n",
      "  0.76159416  0.96402758  0.99505475  0.9993293 ]\n",
      "[1.81583231e-04 1.34095068e-03 9.86603717e-03 7.06508249e-02\n",
      " 4.19974342e-01 1.00000000e+00 4.19974342e-01 7.06508249e-02\n",
      " 9.86603717e-03 1.34095068e-03] \n",
      "\n"
     ]
    },
    {
     "data": {
      "image/png": "[encoded data removed]",
      "text/plain": [
       "<matplotlib.figure.Figure at 0x17589e12f28>"
      ]
     },
     "metadata": {},
     "output_type": "display_data"
    },
    {
     "name": "stdout",
     "output_type": "stream",
     "text": [
      "   Reverse ReLu   \n",
      "[-5 -4 -3 -2 -1  0  0  0  0  0]\n",
      "[1 1 1 1 1 0 0 0 0 0] \n",
      "\n"
     ]
    },
    {
     "data": {
      "image/png": "[encoded data removed]",
      "text/plain": [
       "<matplotlib.figure.Figure at 0x1758a165ac8>"
      ]
     },
     "metadata": {},
     "output_type": "display_data"
    },
    {
     "name": "stdout",
     "output_type": "stream",
     "text": [
      "   Leaky Reverse ReLu   \n",
      "[-5.  -4.  -3.  -2.  -1.   0.   0.1  0.2  0.3  0.4]\n",
      "[1.  1.  1.  1.  1.  0.1 0.1 0.1 0.1 0.1] \n",
      "\n"
     ]
    },
    {
     "data": {
      "image/png": "[encoded data removed]",
      "text/plain": [
       "<matplotlib.figure.Figure at 0x1758a0f6eb8>"
      ]
     },
     "metadata": {},
     "output_type": "display_data"
    },
    {
     "name": "stdout",
     "output_type": "stream",
     "text": [
      "   Softmax   \n",
      "[7.80134161e-05 2.12062451e-04 5.76445508e-04 1.56694135e-03\n",
      " 4.25938820e-03 1.15782175e-02 3.14728583e-02 8.55520989e-02\n",
      " 2.32554716e-01 6.32149258e-01]\n"
     ]
    },
    {
     "data": {
      "image/png": "[encoded data removed]",
      "text/plain": [
       "<matplotlib.figure.Figure at 0x1758a185908>"
      ]
     },
     "metadata": {},
     "output_type": "display_data"
    },
    {
     "name": "stdout",
     "output_type": "stream",
     "text": [
      "   Pivot Squeezer   \n",
      "[[0.]\n",
      " [0.]\n",
      " [0.]\n",
      " [0.]\n",
      " [0.]\n",
      " [0.]\n",
      " [0.]\n",
      " [0.]\n",
      " [0.]\n",
      " [1.]]\n",
      "[[-0.1]\n",
      " [-0.1]\n",
      " [-0.1]\n",
      " [-0.1]\n",
      " [-0.1]\n",
      " [-0.1]\n",
      " [-0.1]\n",
      " [-0.1]\n",
      " [-0.1]\n",
      " [ 1. ]] \n",
      "\n"
     ]
    },
    {
     "data": {
      "image/png": "[encoded data removed]",
      "text/plain": [
       "<matplotlib.figure.Figure at 0x1758b8355c0>"
      ]
     },
     "metadata": {},
     "output_type": "display_data"
    }
   ],
   "source": [
    "t = np.arange(-5, 5, step = 1)\n",
    "t_prim = np.arange(-5, 5, step = 0.01)\n",
    "print(t, \"\\n\")\n",
    "\n",
    "print(\"   ReLu   \")\n",
    "print(relu(t))\n",
    "print(relu(t, d = True))\n",
    "plt.plot(t_prim, relu(t_prim))\n",
    "plt.plot(t_prim, relu(t_prim, d = True))\n",
    "plt.show()\n",
    "\n",
    "print(\"   identity   \")\n",
    "print(identity(t))\n",
    "print(identity(t, d = True), \"\\n\")\n",
    "plt.plot(t_prim, identity(t_prim))\n",
    "plt.plot(t_prim, identity(t_prim, d = True))\n",
    "plt.show()\n",
    "\n",
    "print(\"   l_ReLu   \")\n",
    "print(l_relu(t))\n",
    "print(l_relu(t, d = True), \"\\n\")\n",
    "plt.plot(t_prim, l_relu(t_prim))\n",
    "plt.plot(t_prim, l_relu(t_prim, d = True))\n",
    "plt.show()\n",
    "\n",
    "print(\"   Sigmoid   \")\n",
    "print(sigmoid(t))\n",
    "print(sigmoid(t, d = True), \"\\n\")\n",
    "plt.plot(t_prim, sigmoid(t_prim))\n",
    "plt.plot(t_prim, sigmoid(t_prim, d = True))\n",
    "plt.show()\n",
    "\n",
    "# NOT A GOOD CHOICE!\n",
    "print(\"   sgn   \")\n",
    "print(sgn(t))\n",
    "print(sgn(t, d = True), \"\\n\")\n",
    "plt.plot(t_prim, sgn(t_prim))\n",
    "plt.plot(t_prim, sgn(t_prim, d = True))\n",
    "plt.show()\n",
    "\n",
    "\n",
    "print(\"   TanH   \")\n",
    "print(tanh(t))\n",
    "print(tanh(t, d = True), \"\\n\")\n",
    "plt.plot(t_prim, tanh(t_prim))\n",
    "plt.plot(t_prim, tanh(t_prim, d = True))\n",
    "plt.show()\n",
    "\n",
    "print(\"   Reverse ReLu   \")\n",
    "print(r_relu(t))\n",
    "print(r_relu(t, d = True), \"\\n\")\n",
    "plt.plot(t_prim, r_relu(t_prim))\n",
    "plt.plot(t_prim, r_relu(t_prim, d = True))\n",
    "plt.show()\n",
    "\n",
    "print(\"   Leaky Reverse ReLu   \")\n",
    "print(lr_relu(t))\n",
    "print(lr_relu(t, d = True), \"\\n\")\n",
    "plt.plot(t_prim, lr_relu(t_prim))\n",
    "plt.plot(t_prim, lr_relu(t_prim, d = True))\n",
    "plt.show()\n",
    "\n",
    "print(\"   Softmax   \")\n",
    "print(softmax(t))\n",
    "#print(softmax(t, d = True), \"\\n\")\n",
    "plt.plot(t_prim, softmax(t_prim))\n",
    "#plt.plot(t_prim, softmax(t_prim, d = True))\n",
    "plt.show()\n",
    "\n",
    "print(\"   Pivot Squeezer   \")\n",
    "print(pivot_squeezer(t))\n",
    "print(pivot_squeezer(t, d = True), \"\\n\")\n",
    "plt.plot(t_prim, pivot_squeezer(t_prim))\n",
    "plt.plot(t_prim, pivot_squeezer(t_prim, d = True))\n",
    "plt.show()"
   ]
  },
  {
   "cell_type": "markdown",
   "metadata": {},
   "source": [
    "## Loss functions"
   ]
  },
  {
   "cell_type": "code",
   "execution_count": 322,
   "metadata": {},
   "outputs": [],
   "source": [
    "def MSE(output, expected, d = False, d_out = None):\n",
    "    if not d:\n",
    "        error = np.square(expected - output)\n",
    "        return np.nan_to_num(error)\n",
    "    else:\n",
    "        error = np.multiply(np.subtract(output, expected), (np.matrix(d_out)))\n",
    "        return np.nan_to_num(error)\n",
    "\n",
    "\n",
    "def MAE(output, expected, d = False, d_out = None):\n",
    "    if not d:\n",
    "        error = np.sum(np.matrix(np.absolute(expected - output)))\n",
    "        return np.nan_to_num(error)\n",
    "    else:\n",
    "        error = np.multiply(np.subtract(expected, output), (np.matrix(d_out)))\n",
    "        return np.nan_to_num(error)"
   ]
  },
  {
   "cell_type": "markdown",
   "metadata": {},
   "source": [
    "## Import the MNIST dataset (handwritten digits)"
   ]
  },
  {
   "cell_type": "code",
   "execution_count": 323,
   "metadata": {},
   "outputs": [
    {
     "data": {
      "text/plain": [
       "'1.9.0'"
      ]
     },
     "execution_count": 323,
     "metadata": {},
     "output_type": "execute_result"
    }
   ],
   "source": [
    "\n",
    "import tensorflow as tf\n",
    "mnist = tf.keras.datasets.mnist\n",
    "(training_examples, training_labels),(test_examples, test_labels) = mnist.load_data()\n",
    "\n",
    "lab_examples = training_examples\n",
    "\n",
    "training_examples = normalize(training_examples)\n",
    "test_examples = normalize(test_examples)\n",
    "\n",
    "tf.__version__\n"
   ]
  },
  {
   "cell_type": "code",
   "execution_count": 324,
   "metadata": {
    "scrolled": false
   },
   "outputs": [
    {
     "name": "stdout",
     "output_type": "stream",
     "text": [
      "(60000, 784, 1)\n",
      "Number of training examples and test examples:  60000 ,  10000\n",
      "data dimensions:  (28, 28)\n",
      "example dimension:  (784, 1)\n",
      "[[0.]\n",
      " [0.]\n",
      " [0.]\n",
      " [0.]\n",
      " [0.]\n",
      " [1.]\n",
      " [0.]\n",
      " [0.]\n",
      " [0.]\n",
      " [0.]]\n",
      "5\n"
     ]
    }
   ],
   "source": [
    "\"\"\"\n",
    "###\n",
    "Split data into train and test sets\n",
    "###\n",
    "\"\"\"\n",
    "\n",
    "num_train = len(training_examples)  # amount of training examples/labels\n",
    "\n",
    "num_test = len(test_examples)   # amount of test examples/labels\n",
    "\n",
    "img_len = np.prod((training_examples[0].shape))      # Number of pixels in image\n",
    "\n",
    "img_dim = (int(math.sqrt(img_len)), int(math.sqrt(img_len))) # Image dimension\n",
    "\n",
    "\n",
    "\n",
    "training_examples = normalize(np.reshape(training_examples, (num_train, img_len, 1)))\n",
    "lab_examples = np.reshape(lab_examples, (num_train, img_len, 1))\n",
    "test_examples = normalize(np.reshape(test_examples, (num_test, img_len, 1)))\n",
    "print(training_examples.shape)\n",
    "\n",
    "\n",
    "print(\"Number of training examples and test examples: \", num_train, \", \", num_test)\n",
    "print(\"data dimensions: \", img_dim)\n",
    "print(\"example dimension: \", training_examples[0].shape)\n",
    "\n",
    "\n",
    "# One hot encode the labeled data\n",
    "train_l_encoded = []\n",
    "test_l_encoded = []\n",
    "[train_l_encoded.append(one_hot_encode(x)) for x in training_labels]\n",
    "[test_l_encoded.append(one_hot_encode(x)) for x in test_labels]\n",
    "print(train_l_encoded[0])\n",
    "print(training_labels[0])\n",
    "\n",
    "# Validation set, take the last 10,000 examples for validation\n",
    "validation_examples = training_examples[50000: 60000]\n",
    "validation_labels = train_l_encoded[50000: 60000]"
   ]
  },
  {
   "cell_type": "code",
   "execution_count": 325,
   "metadata": {},
   "outputs": [
    {
     "name": "stdout",
     "output_type": "stream",
     "text": [
      "Display some training images: \n"
     ]
    },
    {
     "data": {
      "image/png": "[encoded data removed]",
      "text/plain": [
       "<matplotlib.figure.Figure at 0x1758b75ef60>"
      ]
     },
     "metadata": {},
     "output_type": "display_data"
    },
    {
     "name": "stdout",
     "output_type": "stream",
     "text": [
      "Training and testing distributions: \n"
     ]
    },
    {
     "data": {
      "image/png": "[encoded data removed]",
      "text/plain": [
       "<matplotlib.figure.Figure at 0x1758027d978>"
      ]
     },
     "metadata": {},
     "output_type": "display_data"
    }
   ],
   "source": [
    "num = 331\n",
    "display_imgs = training_examples[0:9]\n",
    "print(\"Display some training images: \")\n",
    "plt.subplots(figsize=(12,12))\n",
    "for i in range(9):\n",
    "    plt.subplot(num + i)\n",
    "    plt.title(training_labels[i])\n",
    "    plt.imshow(display_imgs[i].reshape(img_dim))    \n",
    "    plt.grid(True)\n",
    "\n",
    "plt.subplots_adjust(top=0.92, bottom=0.08, left=0.10, right=0.95, hspace=0.25,\n",
    "                    wspace=0.35)\n",
    "\n",
    "plt.show()\n",
    "\n",
    "print(\"Training and testing distributions: \")\n",
    "plt.subplots(figsize= (20, 5))\n",
    "plt.subplot(121)\n",
    "plt.hist(training_labels)\n",
    "plt.subplot(122)\n",
    "plt.hist(test_labels)\n",
    "plt.show()"
   ]
  },
  {
   "cell_type": "markdown",
   "metadata": {},
   "source": [
    "\n",
    "\n",
    "\n",
    "# The neural network class\n",
    "\n",
    "The network takes as input a list of sizes that determines the size of each layer(respective to each int) and a list of functions that work as activation functions for each layer relative to their order.\n",
    "\n"
   ]
  },
  {
   "cell_type": "code",
   "execution_count": 326,
   "metadata": {
    "scrolled": false
   },
   "outputs": [],
   "source": [
    "class NeuralNetwork:\n",
    "    def __init__(self, sizes, activation_functions):\n",
    "        \n",
    "        self.sizes = sizes\n",
    "        self.activation_functions = activation_functions\n",
    "        \n",
    "            # Generate random weights\n",
    "        self.weights = list()\n",
    "            # Set i + 1 to include bias term in weights\n",
    "        [self.weights.append(np.random.random_sample((j, i + 1)) * math.sqrt(2/ (j*i)))\n",
    "         for i, j in zip(self.sizes[:-1], self.sizes[1:])]\n",
    "\n",
    "\n",
    "            # This is used during training to get the complete set of signals\n",
    "    def feed_forward(self, input_vector, error_function = MSE, dropout = 0):\n",
    "        \n",
    "            # Gathered signals\n",
    "        signals = []\n",
    "        derived_signals = []\n",
    "\n",
    "        input_vector = np.matrix(input_vector).reshape((input_vector.size, 1))\n",
    "            # Append input as the first signal\n",
    "        signals.append(layer_dropout(input_vector, p = dropout))\n",
    "\n",
    "        derived_signals.append(self.activation_functions[0](input_vector, d = True))\n",
    "        \n",
    "            # For every combined weight matrix, activation function and bias\n",
    "        for w, f in zip(self.weights[:-1], self.activation_functions[:-1]):\n",
    "            \n",
    "                # Append bias value to input vector\n",
    "            signal = np.vstack((signals[-1], 1))\n",
    "                # Save derivative of signal\n",
    "            derived_signals.append(f(np.dot(w, signal), d = True))\n",
    "                # Save the signal itself\n",
    "            signals.append(layer_dropout(f(np.dot(w, signal), d = False), p = dropout))\n",
    "\n",
    "            # Append bias value to input vector\n",
    "        signal = np.vstack((signals[-1], 1))\n",
    "            # Save derivative of signal\n",
    "        derived_signals.append(self.activation_functions[-1](np.dot(self.weights[-1], signal), d = True))\n",
    "            # Save the signal itself\n",
    "        signals.append(self.activation_functions[-1](np.dot(self.weights[-1], signal), d = False))\n",
    "\n",
    "            # Return 2 things: the signals, the derived signals\n",
    "        return signals, derived_signals\n",
    "    \n",
    "    def backpropagate(self, signals, d_signals, out_error):\n",
    "\n",
    "            # Error in each layer\n",
    "        error_vectors = list() \n",
    "            # Gradient which will update the network\n",
    "        gradient = list()\n",
    "        \n",
    "            # Append error in output layer\n",
    "        output_error = np.multiply(out_error, d_signals[-1])\n",
    "        error_vectors.append(output_error)\n",
    "            \n",
    "            #Note! We need to multiply our error by the signals leading into the output-layer\n",
    "            #    We need this for updating is the gradient, which is just the derivative of the error\n",
    "            #    multiplied by the input from the previous layer\n",
    "            \n",
    "            \n",
    "        output_error = output_error * np.vstack((signals[-2], 1)).T\n",
    "        gradient.append(output_error)\n",
    "        \n",
    "            \n",
    "            #We now repeat the above with on big exception:\n",
    "            #     We need to take the previous error into concideration by multiplying with it,\n",
    "            #     the first error was achieved by our costfunction, every other error is derived from the\n",
    "            #     previous one and so on.\n",
    "            \n",
    "        for w in reversed(range(1, len(self.weights))):\n",
    "            \n",
    "            # The error in each hidden layer = E * W * d_X\n",
    "            #    Where W are the weights we want to change, E is the error in the previous layer\n",
    "            #    and X is the derived input signals from this layer\n",
    "            \n",
    "                # This multiplication results in a vector of the form (1, n), \n",
    "                # because I wrote this algorithm with column vectors in mind,\n",
    "                # The transpose (n, 1) is saved for the next iteration\n",
    "\n",
    "            error = np.multiply(error_vectors[-1], self.weights[w][:, :-1])\n",
    "            error = np.sum(np.multiply(error, d_signals[w].T), axis = 0)\n",
    "            \n",
    "            error_vectors.append(error.T)\n",
    "            \n",
    "                # The gradient is in this case a matrix in the same form as the respective weight matrix.\n",
    "                # For this reason we multiply our transposed error (n, 1) by the transposed signal (1, m)\n",
    "                # resulting in a (n,m) matrix, neglecting this will result in a redundant scalar\n",
    "                \n",
    "            error = error.T * np.vstack((signals[w - 1], 1)).T\n",
    "            gradient.append(error)\n",
    "            \n",
    "                # The only necessary update is now to suntract each weight\n",
    "                # from the learning rate(alpha) multiplied by the gradient\n",
    "            \n",
    "        return gradient\n",
    "    \n",
    "    def update_w(self, gradient, alpha):\n",
    "        for w in range(len(self.weights)):\n",
    "            self.weights[w] -= alpha * gradient[-(w + 1)]\n",
    "            \n",
    "    # Automate feed forwarding and backpropagation for briefer training-functions\n",
    "    def propagate(self, inp, expected, error_function = MSE):\n",
    "        \n",
    "        signals, d_signals = self.feed_forward(inp)\n",
    "        out_error = self.error_function(signals[-1], expected, d = True, d_out = d_signals[-1])\n",
    "        \n",
    "            # Will return the gradient of the error and the prediction on input\n",
    "        return self.backpropagate(signals, d_signals, out_error), signals[-1]\n",
    "    \n",
    "    \n",
    "    # Simple training for one example at a time\n",
    "    def train(self, data, label, overfit = False, alpha = 0.1):\n",
    "        sig = list()\n",
    "        for d, l in zip(data, label):\n",
    "            \n",
    "            if overfit:\n",
    "                d = data[0]\n",
    "                l = label[0]\n",
    "                \n",
    "            gradient, prediction = self.propagate(d, l)\n",
    "            \n",
    "            self.update(gradient, alpha)\n",
    "            sig.append(prediction)\n",
    "    \n",
    "    # Batch training, will update weights after each batch-example have been considered\n",
    "    def train_on_batch(self, examples, labels, \n",
    "                       alpha = 0.01, \n",
    "                       dropout = 0,\n",
    "                       vocal = False, \n",
    "                       error_function = MSE, \n",
    "                       lamb = 0.01, \n",
    "                       display_signals = False):\n",
    "    \n",
    "        grad = []\n",
    "        [grad.append(np.zeros_like(i)) for i in reversed(self.weights)]\n",
    "\n",
    "        predictions = []\n",
    "\n",
    "        for e, l in zip(examples, labels):\n",
    "\n",
    "            s, d = self.feed_forward(e, dropout = dropout)\n",
    "            \n",
    "            predictions.append(np.argmax(s[-1]))\n",
    "\n",
    "            d_pred_error = error_function(s[-1], l, d = True, d_out = d[-1])\n",
    "            g = self.backpropagate(s, d, d_pred_error)\n",
    "\n",
    "            for i in range(len(grad)):\n",
    "                \n",
    "                grad[i] += (g[i] / len(examples)) + lamb/(2*len(examples)) * (self.weights[-(i + 1)])\n",
    "        \n",
    "        if display_signals:\n",
    "            displayMe(s, np.sum(error_function(s[-1], l)), self.sizes)\n",
    "                \n",
    "        self.update_w(grad, alpha)\n",
    "\n",
    "        if vocal:\n",
    "            print(predictions[-1], \"==\", labels[-1])\n",
    "            plt.title(\"Predictions\")\n",
    "            plt.hist(predictions, range = [0, 9])\n",
    "            plt.show()\n",
    "\n",
    "        err = error_function(s[-1], l)\n",
    "        return err\n",
    "    \n",
    "    \n",
    "    # Divide data into batches and start training\n",
    "    def batch_training(self, examples, labels,\n",
    "                       valid_examples = None, valid_labels = None,\n",
    "                       test_examples = None, test_labels = None,\n",
    "                       epochs = 1, \n",
    "                       alpha = 0.01, \n",
    "                       batch_size = 1,\n",
    "                       dropout = 0,\n",
    "                       reg_term = 0.1,\n",
    "                       error_function = MSE, \n",
    "                       vocal = False, \n",
    "                       overfit = False, \n",
    "                       iters = 100, \n",
    "                       display_signals = False,\n",
    "                       display_freq = 0):\n",
    "\n",
    "        errs = []\n",
    "        \n",
    "        for e in range(epochs):\n",
    "            \n",
    "            display_frequency = 0\n",
    "            \n",
    "            if vocal == True:\n",
    "                print(\"Epoch: \", e + 1 )\n",
    "                print(\"Updates: \", int(len(examples) / batch_size))\n",
    "            \n",
    "            if overfit:\n",
    "                for i in range(iters):\n",
    "                    \n",
    "                        # Show activation signals at set frequencies\n",
    "                        \n",
    "                    if display_frequency > display_freq:\n",
    "                            display_frequency = 0\n",
    "                            \n",
    "                    display_frequency += 1\n",
    "                \n",
    "                    display_now = display_frequency == display_freq and display_signals\n",
    "                    \n",
    "                    e = self.train_on_batch(examples[0:1], \n",
    "                                            labels[0:1],\n",
    "                                            dropout=dropout,\n",
    "                                            vocal=False,\n",
    "                                            lamb = reg_term,\n",
    "                                            display_signals = display_now)\n",
    "                    errs.append(np.sum(e))\n",
    "                    \n",
    "                    \n",
    "            else:\n",
    "                for i in range(int(len(examples) / batch_size)):\n",
    "                        # Show activation signals at set frequencies\n",
    "                    if display_frequency > display_freq:\n",
    "                            display_frequency = 0\n",
    "                            \n",
    "                    display_frequency += 1\n",
    "                                        \n",
    "                    display_now = display_frequency == display_freq and display_signals\n",
    "                    \n",
    "                    e = self.train_on_batch(examples[i * batch_size: (i + 1) * batch_size],\n",
    "                                            labels[i * batch_size: (i + 1) * batch_size],\n",
    "                                            alpha = alpha,\n",
    "                                            dropout = dropout,\n",
    "                                            lamb = reg_term,\n",
    "                                            display_signals = display_now)\n",
    "                \n",
    "                    errs.append(np.sum(e))\n",
    "            \n",
    "            if not valid_examples is None and not valid_labels is None:\n",
    "                print(\"Validation Accuracy\")\n",
    "                self.test(valid_examples, valid_labels)\n",
    "\n",
    "        print(max(errs), min(errs))\n",
    "        plt.subplots(figsize=(30,20))\n",
    "        plt.title(\"Error over iterations\")\n",
    "        plt.plot(errs)\n",
    "        plt.show()\n",
    "        \n",
    "        if not test_examples is None and not test_labels is None:\n",
    "            print(\"Test accuracy\")\n",
    "            self.test(test_examples, test_labels)\n",
    "\n",
    "    def test(self, examples, labels):\n",
    "        acc = 0\n",
    "\n",
    "        predictions = []\n",
    "        ls = []\n",
    "        for e, l in zip(examples, labels):\n",
    "\n",
    "            pred, d = self.feed_forward(e, dropout= 0)\n",
    "\n",
    "            pred = np.argmax(pred[-1])\n",
    "            l = np.argmax(l)\n",
    "            predictions.append(pred)\n",
    "            ls.append(l)\n",
    "            \n",
    "            if(pred == l):\n",
    "                acc += 1\n",
    "        \n",
    "        print(acc, \"/\", len(examples))\n",
    "        plt.title(\"Predictions\")\n",
    "        plt.hist([predictions, ls], label = [\"prediction\", \"true_label\"], color = [\"cyan\", \"magenta\"])\n",
    "        plt.xticks(range(0, 9))\n",
    "        plt.legend(loc = \"upper right\")\n",
    "        plt.show()\n"
   ]
  },
  {
   "cell_type": "markdown",
   "metadata": {},
   "source": [
    "# Using the model "
   ]
  },
  {
   "cell_type": "markdown",
   "metadata": {},
   "source": [
    "## Test if the network can learn basic operations like addition\n",
    "For these examples, if the weights become optimal by assuming certain values.\n",
    "For example: Adding the two numbers means that the weight simply must assume the value 1,\n",
    "if the backprpagation algorithm is implemented correctly, then the weights should converge to 1\n",
    "quickly (relative to the learning rate of course)\n"
   ]
  },
  {
   "cell_type": "code",
   "execution_count": 327,
   "metadata": {},
   "outputs": [],
   "source": [
    "# Generate dummy data\n",
    "t_e = [np.random.random_sample((2, 1)) + 50 for i in range(60000)]\n",
    "l_e = [np.sum(e) for e in t_e]"
   ]
  },
  {
   "cell_type": "code",
   "execution_count": 328,
   "metadata": {
    "scrolled": true
   },
   "outputs": [
    {
     "name": "stdout",
     "output_type": "stream",
     "text": [
      "4457.364347942511 1.3237757597267255e-10\n"
     ]
    },
    {
     "data": {
      "image/png": "[encoded data removed]",
      "text/plain": [
       "<matplotlib.figure.Figure at 0x175802c4fd0>"
      ]
     },
     "metadata": {},
     "output_type": "display_data"
    },
    {
     "name": "stdout",
     "output_type": "stream",
     "text": [
      "Pred:  [[3.45980679]]\n",
      "Pred:(rounded)  [[3.]]\n",
      "Labl:  3\n",
      "[array([[1.07536812, 0.91353734, 0.55736399]])]\n"
     ]
    }
   ],
   "source": [
    "s = [2, 1]\n",
    "a_f = [identity]\n",
    "\n",
    "n = NeuralNetwork(s, a_f)\n",
    "\n",
    "n.batch_training(t_e[0:60000], l_e[0:60000],\n",
    "                 alpha = 0.0001, \n",
    "                 batch_size= 10, \n",
    "                 epochs = 1, \n",
    "                 overfit= False, \n",
    "                 vocal=False, \n",
    "                 display_signals = False,\n",
    "                iters = 100000)\n",
    "\n",
    "sig, d_sig = n.feed_forward(np.matrix([1, 2]).T)\n",
    "print(\"Pred: \", sig[-1])\n",
    "print(\"Pred:(rounded) \", np.round(sig[-1]))\n",
    "\n",
    "print(\"Labl: \", 2 + 1)\n",
    "\n",
    "print(n.weights)\n",
    "        \n",
    "\n",
    "        "
   ]
  },
  {
   "cell_type": "markdown",
   "metadata": {},
   "source": [
    "Hmm... The addition certainly give the right integer answer, but the decimals seem to overshoot... It migh be that the bias complicated training as the weights only need to converge to 1, 1 in order for feed_forward to return \n",
    "     x1 * 1 + x2 * 1 = x1 + x2\n",
    "Further experimentation is needed though, the bias should help learning, not combat it! A round should yield the right answer.\n",
    "\n",
    "Now lets try one to one mapping (will most likely give similar results)"
   ]
  },
  {
   "cell_type": "code",
   "execution_count": 329,
   "metadata": {},
   "outputs": [
    {
     "name": "stdout",
     "output_type": "stream",
     "text": [
      "Weight before training:  [array([[0.02328741, 0.87255282]])]\n",
      "input with 4:  [[0.96570247]]\n",
      "input with 5:  [[0.98898988]]\n",
      "input with 6:  [[1.01227729]]\n",
      "input with -50:  [[-0.29181774]]\n",
      "35.079595767146884 3.6484180231162344e-13\n"
     ]
    },
    {
     "data": {
      "image/png": "[encoded data removed]",
      "text/plain": [
       "<matplotlib.figure.Figure at 0x17580228ac8>"
      ]
     },
     "metadata": {},
     "output_type": "display_data"
    },
    {
     "name": "stdout",
     "output_type": "stream",
     "text": [
      "\n",
      "Weight after training:  [array([[0.99977616, 0.00566815]])]\n",
      "input with 4:  [[4.00477278]]\n",
      "input with 5:  [[5.00454894]]\n",
      "input with 6:  [[6.0043251]]\n",
      "input with -50:  [[-49.98313976]]\n",
      "   Rounded signals:\n",
      "input with 4:  [[4.]]\n",
      "input with 5:  [[5.]]\n",
      "input with 6:  [[6.]]\n",
      "input with -50:  [[-50.]]\n"
     ]
    }
   ],
   "source": [
    "\n",
    "s = [1, 1]\n",
    "a_f = [identity]\n",
    "\n",
    "alpha = 0.001\n",
    "epochs = 4\n",
    "mini_batch_size = 10\n",
    "\n",
    "n = NeuralNetwork(s, a_f)\n",
    "\n",
    "# Dummy data\n",
    "num_data = 60000\n",
    "ex = np.random.random_sample(num_data) * 50\n",
    "\n",
    "print(\"Weight before training: \", n.weights)\n",
    "\n",
    "print(\"input with 4: \", n.feed_forward(np.matrix(4))[0][1])\n",
    "print(\"input with 5: \", n.feed_forward(np.matrix(5))[0][1])\n",
    "print(\"input with 6: \", n.feed_forward(np.matrix(6))[0][1])\n",
    "print(\"input with -50: \", n.feed_forward(np.matrix(-50))[0][1])\n",
    "\n",
    "\n",
    "\n",
    "error = n.batch_training(ex, ex, \n",
    "                         alpha = alpha, \n",
    "                         batch_size = mini_batch_size, \n",
    "                         epochs = epochs, \n",
    "                         overfit= False)\n",
    "\n",
    "\n",
    "\n",
    "print()\n",
    "print(\"Weight after training: \", n.weights)\n",
    "print(\"input with 4: \", n.feed_forward(np.matrix(4))[0][1])\n",
    "print(\"input with 5: \", n.feed_forward(np.matrix(5))[0][1])\n",
    "print(\"input with 6: \", n.feed_forward(np.matrix(6))[0][1])\n",
    "print(\"input with -50: \", n.feed_forward(np.matrix(-50))[0][1])\n",
    "print(\"   Rounded signals:\")\n",
    "print(\"input with 4: \", np.round(n.feed_forward(np.matrix(4))[0][1]))\n",
    "print(\"input with 5: \", np.round(n.feed_forward(np.matrix(5))[0][1]))\n",
    "print(\"input with 6: \", np.round(n.feed_forward(np.matrix(6))[0][1]))\n",
    "print(\"input with -50: \", np.round(n.feed_forward(np.matrix(-50))[0][1]))"
   ]
  },
  {
   "cell_type": "markdown",
   "metadata": {},
   "source": [
    "This seems promising, the reason -50 cannot be predicted accurately is because of the bias added to the input signal during feed forwarding. The weights do however approach a satisfying value. The first value in the weight matrix(or in this case array) seem to approach 1 while the weight connected to the bias approaches 0. This will idealy result in a feed forward calculation of the form x * 1 + 1 * 0 = x, which is the desired behaviour in this case. Rounding the values however seem to give the right answer.\n",
    "\n",
    "The results are however not as accurate as I had hoped, the best results only have a correctness to the third decimal number\n",
    "\n",
    "\n",
    "## Mnist\n",
    "\n",
    "This is the famous hand-written digits data, whrough my network I appear to achieve an accuracy of 95% on the test data.\n",
    "The network consists of 2 weight matrices sized 500, 785 and 10, 501. Each layer is activated by the l_relu activation function."
   ]
  },
  {
   "cell_type": "code",
   "execution_count": null,
   "metadata": {
    "scrolled": true
   },
   "outputs": [],
   "source": [
    "np.random.seed(0) \n",
    "NN = NeuralNetwork([784, 52**2, 10], [l_relu, l_relu])\n",
    "\n",
    "num = 50000\n",
    "    \n",
    "NN.batch_training(training_examples[0:num], train_l_encoded[0:num],\n",
    "                  valid_examples = validation_examples, valid_labels = validation_labels,\n",
    "                  test_examples = test_examples, test_labels = test_l_encoded,\n",
    "               epochs = 3, \n",
    "               alpha = 0.01,\n",
    "               dropout = 0.4,\n",
    "               batch_size = 10,\n",
    "               reg_term = 0.001,\n",
    "               vocal=True, \n",
    "               overfit = False,\n",
    "               display_signals = True,\n",
    "               display_freq = 1000)\n",
    "\n"
   ]
  },
  {
   "cell_type": "markdown",
   "metadata": {},
   "source": [
    "With regularization and dropout the networks now takes longer to train, accuracy is lowered by rouhgly 8% from the non-regularized network on the same time.\n",
    "\n",
    "Now let's see what the weights look like, we can plot their shape as images if we discard the bias weights"
   ]
  },
  {
   "cell_type": "code",
   "execution_count": null,
   "metadata": {
    "scrolled": false
   },
   "outputs": [],
   "source": [
    "for i in range(5):\n",
    "    plt.imshow(NN.weights[0][i, :-1].reshape(img_dim))\n",
    "    plt.show()\n",
    "\n",
    "m = np.zeros_like(NN.weights[0][0])\n",
    "for i in range(len(NN.weights[0])):\n",
    "    m = np.add(m, NN.weights[0][i]/len(NN.weights[0]))\n",
    "m = m[0:-1]\n",
    "\n",
    "print(\"Summed weights: \")\n",
    "plt.imshow(m.reshape(28, 28))\n",
    "plt.show()"
   ]
  },
  {
   "cell_type": "markdown",
   "metadata": {},
   "source": [
    "The reverse can be learned by feeding in the labels and predicting the example images, this is easily trained by increasing the epochs and reducing the amount of training examples, allowing the net to overfit.\n",
    "\n",
    "Dropout helps in accelerating learning in this case, since it helps in avoiding overflow by reducing the summed signals.\n",
    "\n",
    "Predictions for each kind of label is then showed below, introducing random noise to the input could increase the ways output can be shaped!"
   ]
  },
  {
   "cell_type": "code",
   "execution_count": null,
   "metadata": {
    "scrolled": false
   },
   "outputs": [],
   "source": [
    "# Can the reverse be learned? Probably not directly...\n",
    "n = NeuralNetwork([10, 50**2, 784], [l_relu, l_relu])\n",
    "\n",
    "num = 1000\n",
    "n.batch_training(train_l_encoded[0:num],\n",
    "                 lab_examples[0:num],\n",
    "                 epochs = 5,\n",
    "                 alpha = 0.0005,\n",
    "                 dropout = 0.1,\n",
    "                 batch_size = 10,\n",
    "                 vocal = True,\n",
    "                 overfit = False,\n",
    "                 display_signals = True,\n",
    "                 display_freq = 20)"
   ]
  },
  {
   "cell_type": "code",
   "execution_count": null,
   "metadata": {
    "scrolled": false
   },
   "outputs": [],
   "source": [
    "for i in range(10):\n",
    "    s, d = n.feed_forward(one_hot_encode(i))\n",
    "    \n",
    "    plt.imshow(s[-1].reshape(28, 28))\n",
    "    plt.show()"
   ]
  },
  {
   "cell_type": "markdown",
   "metadata": {},
   "source": [
    "# Cifar dataset\n"
   ]
  },
  {
   "cell_type": "code",
   "execution_count": null,
   "metadata": {},
   "outputs": [],
   "source": [
    "\n",
    "\n",
    "# Method and data taken from: http://www.cs.toronto.edu/~kriz/cifar.html\n",
    "\n",
    "# Reference:\n",
    "# Learning Multiple Layers of Features from Tiny Images, Alex Krizhevsky, 2009.\n",
    "import pickle\n",
    "\n",
    "file = open(\"cifar/data_batch_1\", 'rb')\n",
    "datadict = pickle.load(file,encoding='latin1')\n",
    "file.close()\n",
    "X = datadict[\"data\"]\n",
    "Y = datadict['labels']\n",
    "X_R = []\n",
    "X_G = []\n",
    "X_B = []\n",
    "\n",
    "Y_enc = []\n",
    "for j in range(len(X)):\n",
    "    X_R.append(normalize(X[j][0 : 32**2]))\n",
    "    X_G.append(normalize(np.matrix(X[j][32**2 : 32**2 * 2])))\n",
    "    X_B.append(normalize(np.matrix(X[j][32**2 * 2 : 32**2 * 3])))\n",
    "\n",
    "for i in Y:\n",
    "\n",
    "    Y_enc.append(one_hot_encode(i, size = 10))\n",
    "    \n",
    "print(Y_enc[0])"
   ]
  },
  {
   "cell_type": "code",
   "execution_count": null,
   "metadata": {
    "scrolled": true
   },
   "outputs": [],
   "source": [
    "# Needs to be tuned further to work appropriately\n",
    "cifar_net = NeuralNetwork([32**2, 25**2, 20**2, 15**2, 10], [sigmoid, l_relu, l_relu, l_relu])\n",
    "num = 9000\n",
    "cifar_net.batch_training(X_R[0:num], Y_enc[0:num],\n",
    "                         valid_examples = X_R[num:num+100], valid_labels=Y_enc[num:num+100],\n",
    "                        epochs = 5,\n",
    "                        alpha = 0.0008,\n",
    "                        dropout = 0.1,\n",
    "                        reg_term = 0.1,\n",
    "                        batch_size = 10,\n",
    "                        vocal = True,\n",
    "                        overfit = False,\n",
    "                        display_signals = True,\n",
    "                        display_freq = 200)"
   ]
  },
  {
   "cell_type": "code",
   "execution_count": null,
   "metadata": {},
   "outputs": [],
   "source": [
    "c_net = NeuralNetwork([10, 20**2, 32**2], [sigmoid, l_relu])\n",
    "num = 9000\n",
    "c_net.batch_training(Y_enc, X_R,\n",
    "                        epochs = 5,\n",
    "                        alpha = 0.0003,\n",
    "                        dropout = 0.3,\n",
    "                        batch_size = 10,\n",
    "                        vocal = True,\n",
    "                        overfit = False,\n",
    "                        display_signals = True,\n",
    "                        display_freq = 100)"
   ]
  },
  {
   "cell_type": "markdown",
   "metadata": {},
   "source": [
    "## Experimental\n",
    "\n",
    "Can we train the middle layer without labels to predict the mnist data?\n",
    "\n",
    "The idea is to create a network that reproduces the input data, in the process it will establish behaviour in the hidden layers. My hypothesis is that if the layer in the middle has 10 neurons, it should be possible to predict mnist by looking at the activations from this layer. By extension it should be possible to use this hidden layer as an input layer to produce an image of the given input"
   ]
  },
  {
   "cell_type": "code",
   "execution_count": null,
   "metadata": {},
   "outputs": [],
   "source": []
  },
  {
   "cell_type": "code",
   "execution_count": null,
   "metadata": {
    "scrolled": false
   },
   "outputs": [],
   "source": [
    "np.random.seed(0) \n",
    "neural_net = NeuralNetwork([28**2, 20**2, 10, 20**2, 28**2], [l_relu, sigmoid, tanh, sigmoid])\n",
    "\n",
    "num = 1000\n",
    "   \n",
    "neural_net.batch_training(training_examples[0:num], \n",
    "               lab_examples[0:num], \n",
    "               epochs = 5, \n",
    "               alpha = 0.001,\n",
    "               dropout = 0.5,\n",
    "               batch_size = 10, \n",
    "               vocal=True, \n",
    "               overfit = False,\n",
    "                display_signals = True,\n",
    "               display_freq = 50)\n",
    "\n",
    "#neural_net.test(test_examples[0:100], lab_examples[0:100])\n",
    "\n"
   ]
  },
  {
   "cell_type": "markdown",
   "metadata": {},
   "source": [
    "Takes some time to train and appears to produce too big an error to work, will need to test this further..."
   ]
  },
  {
   "cell_type": "code",
   "execution_count": null,
   "metadata": {
    "scrolled": false
   },
   "outputs": [],
   "source": [
    "for i in range(5):\n",
    "    s, d = neural_net.feed_forward(test_examples[i])\n",
    "    \n",
    "    displayMe(s, np.sum(MSE(s[-1], test_examples)), neural_net.sizes)"
   ]
  },
  {
   "cell_type": "markdown",
   "metadata": {},
   "source": [
    "While I believe dropout can still be used to make this experiment work, the 10-neuron layer still doesn't produce the desired result. As shown above, the middle 10-neuron layer has the third(indexed 2) neuron as the primary activation. The goal is to make that layer notice patterns dynamically, teaching itself the differences of the numbers in the process.\n",
    "\n",
    "Defining dropout-rate layer-wise(as opposed by a singular dropout value for the whole network) might be a solution in this case as that would limit the amount of activations in each layer enforcing patterns in the process."
   ]
  },
  {
   "cell_type": "code",
   "execution_count": null,
   "metadata": {},
   "outputs": [],
   "source": []
  },
  {
   "cell_type": "code",
   "execution_count": null,
   "metadata": {},
   "outputs": [],
   "source": []
  }
 ],
 "metadata": {
  "kernelspec": {
   "display_name": "Python 3",
   "language": "python",
   "name": "python3"
  }
 },
 "nbformat": 4,
 "nbformat_minor": 2
}
